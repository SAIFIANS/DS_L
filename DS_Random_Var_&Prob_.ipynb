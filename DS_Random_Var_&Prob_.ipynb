{
  "nbformat": 4,
  "nbformat_minor": 0,
  "metadata": {
    "colab": {
      "provenance": [],
      "authorship_tag": "ABX9TyMpD9mj29R9SLcuWdbNA4uH",
      "include_colab_link": true
    },
    "kernelspec": {
      "name": "python3",
      "display_name": "Python 3"
    },
    "language_info": {
      "name": "python"
    }
  },
  "cells": [
    {
      "cell_type": "markdown",
      "metadata": {
        "id": "view-in-github",
        "colab_type": "text"
      },
      "source": [
        "<a href=\"https://colab.research.google.com/github/SAIFIANS/DS_L/blob/main/DS_Random_Var_%26Prob_.ipynb\" target=\"_parent\"><img src=\"https://colab.research.google.com/assets/colab-badge.svg\" alt=\"Open In Colab\"/></a>"
      ]
    },
    {
      "cell_type": "markdown",
      "source": [
        "There are two types of events -\n",
        "\n",
        "Random Variable,         Deterministic Variable\n",
        "\n",
        "Deterministic Var - is Constant or fixed\n",
        "\n",
        "Random Var - Takes more than one values"
      ],
      "metadata": {
        "id": "y4yYbjUATAgx"
      }
    },
    {
      "cell_type": "code",
      "source": [],
      "metadata": {
        "id": "OqT1DlvrTU7I"
      },
      "execution_count": null,
      "outputs": []
    },
    {
      "cell_type": "markdown",
      "source": [
        "DS by Srinivas\n",
        "\n",
        "Probability Distributions and Confidence Interval-1"
      ],
      "metadata": {
        "id": "dxtEXScwVaw4"
      }
    },
    {
      "cell_type": "code",
      "source": [],
      "metadata": {
        "id": "Ii2NLExRca8_"
      },
      "execution_count": null,
      "outputs": []
    }
  ]
}