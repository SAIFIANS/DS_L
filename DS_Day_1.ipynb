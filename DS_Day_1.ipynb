{
  "nbformat": 4,
  "nbformat_minor": 0,
  "metadata": {
    "colab": {
      "provenance": [],
      "authorship_tag": "ABX9TyOTBHT07F8Hgs8tgKubxZ9Q",
      "include_colab_link": true
    },
    "kernelspec": {
      "name": "python3",
      "display_name": "Python 3"
    },
    "language_info": {
      "name": "python"
    }
  },
  "cells": [
    {
      "cell_type": "markdown",
      "metadata": {
        "id": "view-in-github",
        "colab_type": "text"
      },
      "source": [
        "<a href=\"https://colab.research.google.com/github/SAIFIANS/DS_L/blob/main/DS_Day_1.ipynb\" target=\"_parent\"><img src=\"https://colab.research.google.com/assets/colab-badge.svg\" alt=\"Open In Colab\"/></a>"
      ]
    },
    {
      "cell_type": "code",
      "execution_count": 1,
      "metadata": {
        "colab": {
          "base_uri": "https://localhost:8080/"
        },
        "id": "2RF1JTO5MkGz",
        "outputId": "569e4b1f-05d8-4cc0-b5ab-ceff3424354b"
      },
      "outputs": [
        {
          "output_type": "stream",
          "name": "stdout",
          "text": [
            "Python, Be good with me\n"
          ]
        }
      ],
      "source": [
        "print(\"Python, Be good with me\")"
      ]
    },
    {
      "cell_type": "code",
      "source": [
        "# COMMENT\n",
        "# ENTER WILL ADD A LINE WITHOUT RUNNING THE CODE\n",
        "# CTRL ENTER WILL RUN THE LINE\n",
        "# ALT ENTER WILL RUN THE LINE & ADD A NEW LINE\n",
        "# SHIFT ENTER WILL RUN THE CODE & MOVE TO THE NEXT LINE"
      ],
      "metadata": {
        "id": "06_HX-a_VdZI"
      },
      "execution_count": 2,
      "outputs": []
    },
    {
      "cell_type": "code",
      "source": [
        "# [] - list, data extraction & slicing\n",
        "# {} - dictionary\n",
        "# () - set"
      ],
      "metadata": {
        "id": "TGxaD6cOVdr_"
      },
      "execution_count": 3,
      "outputs": []
    },
    {
      "cell_type": "code",
      "source": [
        "import math"
      ],
      "metadata": {
        "id": "aRKf2ec1VMNh"
      },
      "execution_count": 4,
      "outputs": []
    },
    {
      "cell_type": "code",
      "source": [
        "math.sqrt(64)"
      ],
      "metadata": {
        "colab": {
          "base_uri": "https://localhost:8080/"
        },
        "id": "rAGONIZeVNo4",
        "outputId": "b95ab1a8-9034-419f-b459-b28a6d362dd0"
      },
      "execution_count": 5,
      "outputs": [
        {
          "output_type": "execute_result",
          "data": {
            "text/plain": [
              "8.0"
            ]
          },
          "metadata": {},
          "execution_count": 5
        }
      ]
    },
    {
      "cell_type": "code",
      "source": [
        "import numpy as np\n",
        "from numpy.random import randn"
      ],
      "metadata": {
        "id": "3kVHo7NFVW7X"
      },
      "execution_count": 6,
      "outputs": []
    },
    {
      "cell_type": "code",
      "source": [
        "x = randn()\n",
        "x"
      ],
      "metadata": {
        "colab": {
          "base_uri": "https://localhost:8080/"
        },
        "id": "gKukGRdpiAbN",
        "outputId": "b73a12c4-e473-4f0f-d515-5b66b6f10a22"
      },
      "execution_count": 7,
      "outputs": [
        {
          "output_type": "execute_result",
          "data": {
            "text/plain": [
              "-1.2077282313452729"
            ]
          },
          "metadata": {},
          "execution_count": 7
        }
      ]
    },
    {
      "cell_type": "code",
      "source": [
        "result = None\n",
        "x = randn()\n",
        "if x >1:\n",
        "  result = 'greater than 1'\n",
        "print(x)\n",
        "print(result)"
      ],
      "metadata": {
        "colab": {
          "base_uri": "https://localhost:8080/"
        },
        "id": "g6NtzPmkiPOu",
        "outputId": "e4ac8173-d9cc-45c5-a2cf-302bda928d5a"
      },
      "execution_count": 8,
      "outputs": [
        {
          "output_type": "stream",
          "name": "stdout",
          "text": [
            "0.4882166175352098\n",
            "None\n"
          ]
        }
      ]
    },
    {
      "cell_type": "code",
      "source": [
        "reult = None\n",
        "x = randn()\n",
        "if x>1:\n",
        "  result = 'Greater than 1'\n",
        "else:\n",
        "  result = 'Less than 1'\n",
        "print(x)\n",
        "print(result)"
      ],
      "metadata": {
        "colab": {
          "base_uri": "https://localhost:8080/"
        },
        "id": "u_YrQ1pWi6l8",
        "outputId": "901c2662-91cd-46b1-b5ed-47a6a93f049f"
      },
      "execution_count": 9,
      "outputs": [
        {
          "output_type": "stream",
          "name": "stdout",
          "text": [
            "-0.6100569960333261\n",
            "Less than 1\n"
          ]
        }
      ]
    },
    {
      "cell_type": "code",
      "source": [
        "reult = None\n",
        "x = randn()\n",
        "if x>1:\n",
        "  result = 'Greater than 1'\n",
        "elif x>=-1:\n",
        "  result = 'Between -1 and 1'\n",
        "else:\n",
        "  result = 'Less than 1'\n",
        "print(x)\n",
        "print(result)\n"
      ],
      "metadata": {
        "colab": {
          "base_uri": "https://localhost:8080/"
        },
        "id": "WPF1XVLJjcVG",
        "outputId": "00cb7f91-52ec-4bbc-c2f5-f391a38c44e1"
      },
      "execution_count": 10,
      "outputs": [
        {
          "output_type": "stream",
          "name": "stdout",
          "text": [
            "-0.20878939103700653\n",
            "Between -1 and 1\n"
          ]
        }
      ]
    },
    {
      "cell_type": "code",
      "source": [
        "list2 = ['Saifi',20,40.5,True]"
      ],
      "metadata": {
        "id": "VugSMWhDuaFc"
      },
      "execution_count": 11,
      "outputs": []
    },
    {
      "cell_type": "code",
      "source": [
        "list2[1]=100"
      ],
      "metadata": {
        "id": "DZjKe8FDj0j2"
      },
      "execution_count": 12,
      "outputs": []
    },
    {
      "cell_type": "code",
      "source": [
        "list2"
      ],
      "metadata": {
        "colab": {
          "base_uri": "https://localhost:8080/"
        },
        "id": "yYTxto7kj4b-",
        "outputId": "8fe15d6e-e918-4b83-c61b-63aad31554a7"
      },
      "execution_count": 13,
      "outputs": [
        {
          "output_type": "execute_result",
          "data": {
            "text/plain": [
              "['Saifi', 100, 40.5, True]"
            ]
          },
          "metadata": {},
          "execution_count": 13
        }
      ]
    },
    {
      "cell_type": "code",
      "source": [
        "type(list2[3])"
      ],
      "metadata": {
        "colab": {
          "base_uri": "https://localhost:8080/"
        },
        "id": "6HOiUIFjjkdV",
        "outputId": "0c7c7b53-c16e-43ab-e86a-9801739f76fa"
      },
      "execution_count": 14,
      "outputs": [
        {
          "output_type": "execute_result",
          "data": {
            "text/plain": [
              "bool"
            ]
          },
          "metadata": {},
          "execution_count": 14
        }
      ]
    },
    {
      "cell_type": "code",
      "source": [
        "letters = ['A','B','C','D','E','F','G','H','I','J']"
      ],
      "metadata": {
        "id": "PUPATGA9j7w2"
      },
      "execution_count": 15,
      "outputs": []
    },
    {
      "cell_type": "code",
      "source": [
        "letters[::-1]"
      ],
      "metadata": {
        "colab": {
          "base_uri": "https://localhost:8080/"
        },
        "id": "y5xqdwvkmF-u",
        "outputId": "0b2bd640-dc89-40fe-fe50-f87507052308"
      },
      "execution_count": 16,
      "outputs": [
        {
          "output_type": "execute_result",
          "data": {
            "text/plain": [
              "['J', 'I', 'H', 'G', 'F', 'E', 'D', 'C', 'B', 'A']"
            ]
          },
          "metadata": {},
          "execution_count": 16
        }
      ]
    },
    {
      "cell_type": "code",
      "source": [
        "letters[1:6:-1]"
      ],
      "metadata": {
        "colab": {
          "base_uri": "https://localhost:8080/"
        },
        "id": "yN3SgVwCmLzm",
        "outputId": "bd7571f1-a217-425f-983d-ca1957cfb676"
      },
      "execution_count": 17,
      "outputs": [
        {
          "output_type": "execute_result",
          "data": {
            "text/plain": [
              "[]"
            ]
          },
          "metadata": {},
          "execution_count": 17
        }
      ]
    },
    {
      "cell_type": "code",
      "source": [
        "letters[6:1:-1]"
      ],
      "metadata": {
        "colab": {
          "base_uri": "https://localhost:8080/"
        },
        "id": "H81NXENVmP2W",
        "outputId": "5cbf466b-6836-4ee1-ae3b-e21fe8a716b0"
      },
      "execution_count": 18,
      "outputs": [
        {
          "output_type": "execute_result",
          "data": {
            "text/plain": [
              "['G', 'F', 'E', 'D', 'C']"
            ]
          },
          "metadata": {},
          "execution_count": 18
        }
      ]
    },
    {
      "cell_type": "code",
      "source": [
        "tuple1 = (56, 78,'Bradly')"
      ],
      "metadata": {
        "id": "SCGUexfnhsGZ"
      },
      "execution_count": 19,
      "outputs": []
    },
    {
      "cell_type": "code",
      "source": [
        "tuple1[1]"
      ],
      "metadata": {
        "colab": {
          "base_uri": "https://localhost:8080/"
        },
        "id": "2oLeMalojDkB",
        "outputId": "8cb3c093-bc72-40ee-8df9-193af1734ff0"
      },
      "execution_count": 21,
      "outputs": [
        {
          "output_type": "execute_result",
          "data": {
            "text/plain": [
              "78"
            ]
          },
          "metadata": {},
          "execution_count": 21
        }
      ]
    },
    {
      "cell_type": "code",
      "source": [
        "tuple1[1]= 80 #tuple is immutable"
      ],
      "metadata": {
        "colab": {
          "base_uri": "https://localhost:8080/",
          "height": 165
        },
        "id": "26tr-niGjGtZ",
        "outputId": "4237e7dd-4649-485b-ef72-0f175eef91fb"
      },
      "execution_count": 22,
      "outputs": [
        {
          "output_type": "error",
          "ename": "TypeError",
          "evalue": "ignored",
          "traceback": [
            "\u001b[0;31m---------------------------------------------------------------------------\u001b[0m",
            "\u001b[0;31mTypeError\u001b[0m                                 Traceback (most recent call last)",
            "\u001b[0;32m<ipython-input-22-aeda7493d3bd>\u001b[0m in \u001b[0;36m<cell line: 1>\u001b[0;34m()\u001b[0m\n\u001b[0;32m----> 1\u001b[0;31m \u001b[0mtuple1\u001b[0m\u001b[0;34m[\u001b[0m\u001b[0;36m1\u001b[0m\u001b[0;34m]\u001b[0m\u001b[0;34m=\u001b[0m \u001b[0;36m80\u001b[0m\u001b[0;34m\u001b[0m\u001b[0;34m\u001b[0m\u001b[0m\n\u001b[0m",
            "\u001b[0;31mTypeError\u001b[0m: 'tuple' object does not support item assignment"
          ]
        }
      ]
    },
    {
      "cell_type": "code",
      "source": [
        "list(letters)"
      ],
      "metadata": {
        "colab": {
          "base_uri": "https://localhost:8080/"
        },
        "id": "7-IKVLj1jJZ4",
        "outputId": "13836b12-d492-4de6-ceb2-864085a97955"
      },
      "execution_count": 25,
      "outputs": [
        {
          "output_type": "execute_result",
          "data": {
            "text/plain": [
              "['A', 'B', 'C', 'D', 'E', 'F', 'G', 'H', 'I', 'J']"
            ]
          },
          "metadata": {},
          "execution_count": 25
        }
      ]
    },
    {
      "cell_type": "code",
      "source": [
        "type(tuple1)"
      ],
      "metadata": {
        "colab": {
          "base_uri": "https://localhost:8080/"
        },
        "id": "kVyUVWJ2jUbo",
        "outputId": "fda4b28b-4b77-46ca-db2c-945f890cd03e"
      },
      "execution_count": 28,
      "outputs": [
        {
          "output_type": "execute_result",
          "data": {
            "text/plain": [
              "tuple"
            ]
          },
          "metadata": {},
          "execution_count": 28
        }
      ]
    },
    {
      "cell_type": "code",
      "source": [
        "print(tuple1)"
      ],
      "metadata": {
        "colab": {
          "base_uri": "https://localhost:8080/"
        },
        "id": "11esyag_jdqY",
        "outputId": "95d740cd-d238-4546-eac8-88d2695a519f"
      },
      "execution_count": 29,
      "outputs": [
        {
          "output_type": "stream",
          "name": "stdout",
          "text": [
            "(56, 78, 'Bradly')\n"
          ]
        }
      ]
    },
    {
      "cell_type": "code",
      "source": [
        "len(tuple1)"
      ],
      "metadata": {
        "colab": {
          "base_uri": "https://localhost:8080/"
        },
        "id": "vOM163-ajgRR",
        "outputId": "513fd29f-6b9e-4f79-dfd7-372242fa4707"
      },
      "execution_count": 31,
      "outputs": [
        {
          "output_type": "execute_result",
          "data": {
            "text/plain": [
              "3"
            ]
          },
          "metadata": {},
          "execution_count": 31
        }
      ]
    },
    {
      "cell_type": "code",
      "source": [
        "list1 = [47,35,88.6]"
      ],
      "metadata": {
        "id": "t5tywrpIjs3g"
      },
      "execution_count": 32,
      "outputs": []
    },
    {
      "cell_type": "code",
      "source": [
        "max(list1)"
      ],
      "metadata": {
        "colab": {
          "base_uri": "https://localhost:8080/"
        },
        "id": "OiPXbyN7j0eo",
        "outputId": "f77aa180-c47f-44d6-ccec-ece5207f6957"
      },
      "execution_count": 35,
      "outputs": [
        {
          "output_type": "execute_result",
          "data": {
            "text/plain": [
              "88.6"
            ]
          },
          "metadata": {},
          "execution_count": 35
        }
      ]
    },
    {
      "cell_type": "code",
      "source": [
        "list3 = [1,'Brad',30.6,True]"
      ],
      "metadata": {
        "id": "-9NQpHWBj_jx"
      },
      "execution_count": 39,
      "outputs": []
    },
    {
      "cell_type": "code",
      "source": [
        "a =np.array(list3)"
      ],
      "metadata": {
        "id": "gf-84_0nkk8w"
      },
      "execution_count": 41,
      "outputs": []
    },
    {
      "cell_type": "code",
      "source": [
        "a"
      ],
      "metadata": {
        "colab": {
          "base_uri": "https://localhost:8080/"
        },
        "id": "Kgl2U9c7kr0g",
        "outputId": "e622e2e3-73a4-4eeb-9398-d6e8d59dde56"
      },
      "execution_count": 42,
      "outputs": [
        {
          "output_type": "execute_result",
          "data": {
            "text/plain": [
              "array(['1', 'Brad', '30.6', 'True'], dtype='<U32')"
            ]
          },
          "metadata": {},
          "execution_count": 42
        }
      ]
    },
    {
      "cell_type": "code",
      "source": [
        "list4 = [1,30.6,True]\n",
        "b = np.array(list4)\n",
        "b"
      ],
      "metadata": {
        "colab": {
          "base_uri": "https://localhost:8080/"
        },
        "id": "39esusmEksUw",
        "outputId": "2afb2066-425e-4e13-f855-029dd5820999"
      },
      "execution_count": 44,
      "outputs": [
        {
          "output_type": "execute_result",
          "data": {
            "text/plain": [
              "array([ 1. , 30.6,  1. ])"
            ]
          },
          "metadata": {},
          "execution_count": 44
        }
      ]
    },
    {
      "cell_type": "code",
      "source": [
        "list5 = [1,False]\n",
        "c=np.array(list5)\n",
        "c"
      ],
      "metadata": {
        "colab": {
          "base_uri": "https://localhost:8080/"
        },
        "id": "gOx83RznlBRg",
        "outputId": "b0771f7c-76c1-499a-8b76-0bfd137ab7eb"
      },
      "execution_count": 45,
      "outputs": [
        {
          "output_type": "execute_result",
          "data": {
            "text/plain": [
              "array([1, 0])"
            ]
          },
          "metadata": {},
          "execution_count": 45
        }
      ]
    },
    {
      "cell_type": "code",
      "source": [
        "list6 =[False]\n",
        "d=np.array(list6)\n",
        "d"
      ],
      "metadata": {
        "colab": {
          "base_uri": "https://localhost:8080/"
        },
        "id": "wDxK31xQlJhh",
        "outputId": "e374868e-b004-4b1b-ec65-44101da5a65f"
      },
      "execution_count": 46,
      "outputs": [
        {
          "output_type": "execute_result",
          "data": {
            "text/plain": [
              "array([False])"
            ]
          },
          "metadata": {},
          "execution_count": 46
        }
      ]
    },
    {
      "cell_type": "code",
      "source": [
        "# Hierarchy of datatypes - String > Float > Integer > Boolean"
      ],
      "metadata": {
        "id": "DxI3fHl-lRQ4"
      },
      "execution_count": 47,
      "outputs": []
    },
    {
      "cell_type": "code",
      "source": [
        "list3\n",
        "a =np.array(list3)\n",
        "a"
      ],
      "metadata": {
        "colab": {
          "base_uri": "https://localhost:8080/"
        },
        "id": "r5EGHLgelqxp",
        "outputId": "7f4d00a6-9743-49c4-efec-a0d0d5bd5578"
      },
      "execution_count": 49,
      "outputs": [
        {
          "output_type": "execute_result",
          "data": {
            "text/plain": [
              "array(['1', 'Brad', '30.6', 'True'], dtype='<U32')"
            ]
          },
          "metadata": {},
          "execution_count": 49
        }
      ]
    },
    {
      "cell_type": "code",
      "source": [
        "a[1]"
      ],
      "metadata": {
        "colab": {
          "base_uri": "https://localhost:8080/",
          "height": 35
        },
        "id": "Yh-pyQ7wm1rP",
        "outputId": "47ec76b6-ca88-4eb0-d651-721714a4c461"
      },
      "execution_count": 50,
      "outputs": [
        {
          "output_type": "execute_result",
          "data": {
            "text/plain": [
              "'Brad'"
            ],
            "application/vnd.google.colaboratory.intrinsic+json": {
              "type": "string"
            }
          },
          "metadata": {},
          "execution_count": 50
        }
      ]
    },
    {
      "cell_type": "code",
      "source": [
        "a[1:3]"
      ],
      "metadata": {
        "colab": {
          "base_uri": "https://localhost:8080/"
        },
        "id": "BWMC0MzGm3wo",
        "outputId": "d9218677-24f8-483c-aff6-f838027339f1"
      },
      "execution_count": 51,
      "outputs": [
        {
          "output_type": "execute_result",
          "data": {
            "text/plain": [
              "array(['Brad', '30.6'], dtype='<U32')"
            ]
          },
          "metadata": {},
          "execution_count": 51
        }
      ]
    },
    {
      "cell_type": "code",
      "source": [
        "a[1:]"
      ],
      "metadata": {
        "colab": {
          "base_uri": "https://localhost:8080/"
        },
        "id": "EWXH_wIkm56X",
        "outputId": "fde1dd53-f1cf-49f7-f2c6-1d767cf40730"
      },
      "execution_count": 52,
      "outputs": [
        {
          "output_type": "execute_result",
          "data": {
            "text/plain": [
              "array(['Brad', '30.6', 'True'], dtype='<U32')"
            ]
          },
          "metadata": {},
          "execution_count": 52
        }
      ]
    },
    {
      "cell_type": "code",
      "source": [
        "a[:-1]"
      ],
      "metadata": {
        "colab": {
          "base_uri": "https://localhost:8080/"
        },
        "id": "z0XA-BPGm8oY",
        "outputId": "109dfdf9-f793-4db2-9df6-0a7faf0c3d6b"
      },
      "execution_count": 53,
      "outputs": [
        {
          "output_type": "execute_result",
          "data": {
            "text/plain": [
              "array(['1', 'Brad', '30.6'], dtype='<U32')"
            ]
          },
          "metadata": {},
          "execution_count": 53
        }
      ]
    },
    {
      "cell_type": "code",
      "source": [],
      "metadata": {
        "colab": {
          "base_uri": "https://localhost:8080/"
        },
        "id": "M1cKdnOUm-sA",
        "outputId": "72522b77-835c-4d97-81d4-cad6296b65e6"
      },
      "execution_count": 54,
      "outputs": [
        {
          "output_type": "stream",
          "name": "stdout",
          "text": [
            "{'Sat', 'Wen', 'Sun', 'Fri', 'Thu', 'Mon', 'Tue'}\n"
          ]
        }
      ]
    },
    {
      "cell_type": "code",
      "source": [
        "# Removing list elements from a set using a loop\n",
        "a= [\"Tue\",\"Wed\",\"Thu\"]\n",
        "b={\"Fri\",\"Sat\",\"Thu\",\"Mon\",\"Tue\",\"Wed\",\"Sun\"}\n",
        "for i in a:\n",
        "  if (i!=a):\n",
        "    b.remove(i)\n",
        "print(b)"
      ],
      "metadata": {
        "colab": {
          "base_uri": "https://localhost:8080/"
        },
        "id": "hFk1j3RysfSf",
        "outputId": "14b22d20-e83a-4eab-df67-d84564755c95"
      },
      "execution_count": 60,
      "outputs": [
        {
          "output_type": "stream",
          "name": "stdout",
          "text": [
            "{'Mon', 'Sat', 'Sun', 'Fri'}\n"
          ]
        }
      ]
    },
    {
      "cell_type": "code",
      "source": [
        "DaysA = set([\"Mon\",\"Tue\",\"Wen\",\"Thu\",\"Sat\"])\n",
        "DaysB = set([\"Wen\",\"Thu\",\"Fri\",\"Sat\",\"Sun\"])\n",
        "AllDays = DaysA|DaysB\n",
        "print(AllDays)"
      ],
      "metadata": {
        "colab": {
          "base_uri": "https://localhost:8080/"
        },
        "id": "n30-zUkSs95n",
        "outputId": "b587fbd6-ddbb-4992-f84c-8d077621f239"
      },
      "execution_count": 61,
      "outputs": [
        {
          "output_type": "stream",
          "name": "stdout",
          "text": [
            "{'Sat', 'Wen', 'Sun', 'Fri', 'Thu', 'Mon', 'Tue'}\n"
          ]
        }
      ]
    },
    {
      "cell_type": "code",
      "source": [
        "print(DaysA.union(DaysB))\n",
        "print(DaysB.union(DaysA))"
      ],
      "metadata": {
        "colab": {
          "base_uri": "https://localhost:8080/"
        },
        "id": "QihHbK9St1w3",
        "outputId": "c931e012-a747-43b5-f845-e6c431186749"
      },
      "execution_count": 62,
      "outputs": [
        {
          "output_type": "stream",
          "name": "stdout",
          "text": [
            "{'Sat', 'Wen', 'Sun', 'Fri', 'Thu', 'Mon', 'Tue'}\n",
            "{'Sat', 'Wen', 'Sun', 'Fri', 'Thu', 'Mon', 'Tue'}\n"
          ]
        }
      ]
    },
    {
      "cell_type": "code",
      "source": [
        "# Union of Three Sets\n",
        "'''Elements either in A, B or C, or all 3 or any 2 of the sets.\n",
        "will be taken in union'''\n",
        "A={1,2,6,5,7}\n",
        "B={8,7,1,5}\n",
        "C={10,14,15}\n",
        "A|B|C"
      ],
      "metadata": {
        "colab": {
          "base_uri": "https://localhost:8080/"
        },
        "id": "apVkO-Tot-ye",
        "outputId": "e5d4d87f-8b58-4dc1-a4b5-d75cdf1a79e0"
      },
      "execution_count": 63,
      "outputs": [
        {
          "output_type": "execute_result",
          "data": {
            "text/plain": [
              "{1, 2, 5, 6, 7, 8, 10, 14, 15}"
            ]
          },
          "metadata": {},
          "execution_count": 63
        }
      ]
    },
    {
      "cell_type": "code",
      "source": [
        "A.union(B,C)"
      ],
      "metadata": {
        "colab": {
          "base_uri": "https://localhost:8080/"
        },
        "id": "kuiu9tkOvVOm",
        "outputId": "f137d436-63b7-4fa4-ac41-9434ce9d5a23"
      },
      "execution_count": 64,
      "outputs": [
        {
          "output_type": "execute_result",
          "data": {
            "text/plain": [
              "{1, 2, 5, 6, 7, 8, 10, 14, 15}"
            ]
          },
          "metadata": {},
          "execution_count": 64
        }
      ]
    },
    {
      "cell_type": "code",
      "source": [
        "B.union(A,C)"
      ],
      "metadata": {
        "colab": {
          "base_uri": "https://localhost:8080/"
        },
        "id": "hP5XDG-IvY-W",
        "outputId": "0258ee00-f152-4028-bc27-eff9bab20043"
      },
      "execution_count": 65,
      "outputs": [
        {
          "output_type": "execute_result",
          "data": {
            "text/plain": [
              "{1, 2, 5, 6, 7, 8, 10, 14, 15}"
            ]
          },
          "metadata": {},
          "execution_count": 65
        }
      ]
    },
    {
      "cell_type": "code",
      "source": [
        "C.union(B,A)"
      ],
      "metadata": {
        "colab": {
          "base_uri": "https://localhost:8080/"
        },
        "id": "IJfP910Ivan-",
        "outputId": "dac9ea34-7ace-4b70-c4c3-628fdf80a5cf"
      },
      "execution_count": 66,
      "outputs": [
        {
          "output_type": "execute_result",
          "data": {
            "text/plain": [
              "{1, 2, 5, 6, 7, 8, 10, 14, 15}"
            ]
          },
          "metadata": {},
          "execution_count": 66
        }
      ]
    },
    {
      "cell_type": "code",
      "source": [
        "DaysA = set([\"Mon\",\"Tue\",\"Wed\",\"Sat\"])\n",
        "DaysB = set([\"Wed\",\"Thu\",\"Sat\",\"Sun\"])\n",
        "AllDays = DaysA & DaysB\n",
        "print(AllDays)"
      ],
      "metadata": {
        "colab": {
          "base_uri": "https://localhost:8080/"
        },
        "id": "R8S4DFclvd5-",
        "outputId": "82cecb0a-4787-4ac6-d7f9-c70618b7a065"
      },
      "execution_count": 68,
      "outputs": [
        {
          "output_type": "stream",
          "name": "stdout",
          "text": [
            "{'Sat', 'Wed'}\n"
          ]
        }
      ]
    },
    {
      "cell_type": "code",
      "source": [
        "print(DaysA.intersection(DaysB))\n",
        "print(DaysB.intersection(DaysA))"
      ],
      "metadata": {
        "colab": {
          "base_uri": "https://localhost:8080/"
        },
        "id": "WgTRYvFav7i_",
        "outputId": "7861189d-bd88-4544-8530-084cb05738b8"
      },
      "execution_count": 69,
      "outputs": [
        {
          "output_type": "stream",
          "name": "stdout",
          "text": [
            "{'Sat', 'Wed'}\n",
            "{'Sat', 'Wed'}\n"
          ]
        }
      ]
    },
    {
      "cell_type": "code",
      "source": [
        "# stats.iloc[:1,3:].values\n",
        "# 2nd the 5th row, column 1 and 3\n",
        "# stats.iloc[2:6:3,1:4:2].values\n",
        "\n"
      ],
      "metadata": {
        "id": "mdcuX7SVv0R-"
      },
      "execution_count": null,
      "outputs": []
    }
  ]
}